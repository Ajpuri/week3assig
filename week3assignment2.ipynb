{
 "cells": [
  {
   "cell_type": "markdown",
   "id": "f148e1c7-c7f0-437d-bd0b-901baaf4d27c",
   "metadata": {},
   "source": [
    "# Ans Q1\n",
    "\n",
    "**Creating a python program to sort the given list of tuples based on integer value using a \n",
    "lambda function.[('Sachin Tendulkar', 34357), ('Ricky Ponting', 27483), ('Jack Kallis', 25534), ('Virat Kohli', 24936)]**"
   ]
  },
  {
   "cell_type": "code",
   "execution_count": 1,
   "id": "c88d9d47-e8ce-457f-98d1-bb79616993a8",
   "metadata": {},
   "outputs": [
    {
     "name": "stdout",
     "output_type": "stream",
     "text": [
      "Original list of Tuples:\n",
      "[('Sachin Tendulkar', 34357), ('Ricky Ponting', 27483), ('Jack Kallis', 25534), ('Virat Kohli', 24936)]\n",
      "\n",
      "\n",
      "\n",
      "Sorting the list of Tuples:\n",
      "[('Virat Kohli', 24936), ('Jack Kallis', 25534), ('Ricky Ponting', 27483), ('Sachin Tendulkar', 34357)]\n"
     ]
    }
   ],
   "source": [
    "cricketer_score = [('Sachin Tendulkar', 34357), ('Ricky Ponting', 27483), ('Jack Kallis', 25534), ('Virat Kohli', 24936)]\n",
    "print(\"Original list of Tuples:\")\n",
    "print(cricketer_score)\n",
    "cricketer_score.sort(key = lambda x: x[1])\n",
    "print(\"\\n\\n\\nSorting the list of Tuples:\")\n",
    "print(cricketer_score)"
   ]
  },
  {
   "cell_type": "markdown",
   "id": "e428ccc6-9776-40bb-bd3b-3ceaa391f286",
   "metadata": {},
   "source": [
    "# Ans Q2\n",
    "\n",
    "**Writing a Python Program to find the squares of all the numbers in the given list of integers using \n",
    "lambda and map functions.[1, 2, 3, 4, 5, 6, 7, 8, 9, 10]**"
   ]
  },
  {
   "cell_type": "code",
   "execution_count": 2,
   "id": "fbdbc124-0b85-455f-9134-9d34b4ce4198",
   "metadata": {},
   "outputs": [
    {
     "name": "stdout",
     "output_type": "stream",
     "text": [
      "[1, 4, 9, 16, 25, 36, 49, 64, 81, 100]\n"
     ]
    }
   ],
   "source": [
    "l1 = [1, 2, 3, 4, 5, 6, 7, 8, 9, 10]\n",
    "l2 = list(map(lambda x: x**2, l1 ))\n",
    "print(l2)"
   ]
  },
  {
   "cell_type": "markdown",
   "id": "96588fe9-c282-4e06-8b90-32bbb200b762",
   "metadata": {},
   "source": [
    "# Ans Q3\n",
    "\n",
    "**Writing a python program to convert the given list of integers into a tuple of strings. Using map and \n",
    "lambda functions\n",
    "Given String: [1, 2, 3, 4, 5, 6, 7, 8, 9, 10]\n",
    "Expected output: ('1', '2', '3', '4', '5', '6', '7', '8', '9', '10')**"
   ]
  },
  {
   "cell_type": "code",
   "execution_count": 41,
   "id": "78c82eaa-cf3c-4651-a75a-92f632a0bc46",
   "metadata": {},
   "outputs": [
    {
     "data": {
      "text/plain": [
       "['1', '2', '3', '4', '5', '6', '7', '8', '9', '10']"
      ]
     },
     "execution_count": 41,
     "metadata": {},
     "output_type": "execute_result"
    }
   ],
   "source": [
    "G_S = [1,2,3,4,5,6,7,8,9,10]\n",
    "list(map(lambda x: str(x),G_S))"
   ]
  },
  {
   "cell_type": "markdown",
   "id": "2dfad473-6b16-46ed-b9f5-bb61f51494db",
   "metadata": {},
   "source": [
    "# Ans Q4. \n",
    "\n",
    "**Write a python program using reduce function to compute the product of a list containing numbers \n",
    "from 1 to 25.**"
   ]
  },
  {
   "cell_type": "code",
   "execution_count": 17,
   "id": "062a7421-d478-4995-9c60-6be252b59ce1",
   "metadata": {},
   "outputs": [],
   "source": [
    "from functools import reduce"
   ]
  },
  {
   "cell_type": "code",
   "execution_count": 19,
   "id": "8738ff30-6935-4906-8957-cdbee8400971",
   "metadata": {},
   "outputs": [
    {
     "data": {
      "text/plain": [
       "325"
      ]
     },
     "execution_count": 19,
     "metadata": {},
     "output_type": "execute_result"
    }
   ],
   "source": [
    "l1 = list(range(1,26))\n",
    "reduce(lambda x ,y : x+y , l1)"
   ]
  },
  {
   "cell_type": "code",
   "execution_count": 20,
   "id": "6dbf28c6-1ba5-4cfb-87db-68500df6afab",
   "metadata": {},
   "outputs": [
    {
     "data": {
      "text/plain": [
       "[1,\n",
       " 2,\n",
       " 3,\n",
       " 4,\n",
       " 5,\n",
       " 6,\n",
       " 7,\n",
       " 8,\n",
       " 9,\n",
       " 10,\n",
       " 11,\n",
       " 12,\n",
       " 13,\n",
       " 14,\n",
       " 15,\n",
       " 16,\n",
       " 17,\n",
       " 18,\n",
       " 19,\n",
       " 20,\n",
       " 21,\n",
       " 22,\n",
       " 23,\n",
       " 24,\n",
       " 25]"
      ]
     },
     "execution_count": 20,
     "metadata": {},
     "output_type": "execute_result"
    }
   ],
   "source": [
    "l1"
   ]
  },
  {
   "cell_type": "code",
   "execution_count": 21,
   "id": "5d3b59a9-47cf-4653-82ef-99230d3e6ec9",
   "metadata": {},
   "outputs": [
    {
     "data": {
      "text/plain": [
       "325"
      ]
     },
     "execution_count": 21,
     "metadata": {},
     "output_type": "execute_result"
    }
   ],
   "source": [
    "reduce(lambda x ,y : x+y , l1)"
   ]
  },
  {
   "cell_type": "markdown",
   "id": "98d13f9a-e6be-4e77-b8b2-60b3189c0fb6",
   "metadata": {},
   "source": [
    "# Ans Q5.\n",
    "\n",
    "**Writing a python program to filter the numbers in a given list that are divisible by 2 and 3 using the \n",
    "filter function.**"
   ]
  },
  {
   "cell_type": "markdown",
   "id": "7d10ba8d-cfcf-4e93-aebb-9c02c51448f7",
   "metadata": {},
   "source": [
    "**[2, 3, 6, 9, 27, 60, 90, 120, 55, 46]**"
   ]
  },
  {
   "cell_type": "code",
   "execution_count": 22,
   "id": "bce7b2a1-e2b6-4827-9479-31ac6307ff18",
   "metadata": {},
   "outputs": [
    {
     "data": {
      "text/plain": [
       "[6, 60, 90, 120]"
      ]
     },
     "execution_count": 22,
     "metadata": {},
     "output_type": "execute_result"
    }
   ],
   "source": [
    "g_l = [2, 3, 6, 9, 27, 60, 90, 120, 55, 46]\n",
    "list(filter(lambda x : x % 2 == 0 and x % 3 ==0, g_l))"
   ]
  },
  {
   "cell_type": "markdown",
   "id": "0cfcd033-e527-41fc-ab55-366d13a8ea72",
   "metadata": {},
   "source": [
    "# Ans Q6 \n",
    "\n",
    "**Write a python program to find palindromes in the given list of strings using lambda and filter \n",
    "function\n",
    "['python', 'php', 'aba', 'radar', 'level']**"
   ]
  },
  {
   "cell_type": "code",
   "execution_count": 40,
   "id": "ad490736-3e70-455a-9d9f-f0b3fdb40250",
   "metadata": {},
   "outputs": [
    {
     "data": {
      "text/plain": [
       "['php', 'aba', 'radar', 'level']"
      ]
     },
     "execution_count": 40,
     "metadata": {},
     "output_type": "execute_result"
    }
   ],
   "source": [
    "P = ['python', 'php', 'aba', 'radar', 'level']\n",
    "list(filter(lambda x: x==x[::-1],P))"
   ]
  },
  {
   "cell_type": "code",
   "execution_count": null,
   "id": "fa28f96b-22b1-40cd-ab62-39261b0356ac",
   "metadata": {},
   "outputs": [],
   "source": []
  }
 ],
 "metadata": {
  "kernelspec": {
   "display_name": "Python 3 (ipykernel)",
   "language": "python",
   "name": "python3"
  },
  "language_info": {
   "codemirror_mode": {
    "name": "ipython",
    "version": 3
   },
   "file_extension": ".py",
   "mimetype": "text/x-python",
   "name": "python",
   "nbconvert_exporter": "python",
   "pygments_lexer": "ipython3",
   "version": "3.10.8"
  }
 },
 "nbformat": 4,
 "nbformat_minor": 5
}
