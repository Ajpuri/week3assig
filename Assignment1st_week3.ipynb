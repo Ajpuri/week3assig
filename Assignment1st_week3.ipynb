{
 "cells": [
  {
   "cell_type": "markdown",
   "id": "59705b5d-3d13-48b0-b24b-63137d418e27",
   "metadata": {
    "tags": []
   },
   "source": [
    "# Ans Q1."
   ]
  },
  {
   "cell_type": "markdown",
   "id": "8558b460-3fe0-40a8-8787-80fbe9aee117",
   "metadata": {},
   "source": [
    "***Creating a function to return a list of odd numbers in the range of 1 to 25.*** "
   ]
  },
  {
   "cell_type": "code",
   "execution_count": 13,
   "id": "6cbdc911-db83-404e-b1e8-eb702d3a884f",
   "metadata": {},
   "outputs": [],
   "source": [
    "def odd():\n",
    "    l1 = []\n",
    "    for i in list(range(1,25)):\n",
    "        if i % 2 != 0 :\n",
    "            l1.append(i)\n",
    "            \n",
    "    return l1"
   ]
  },
  {
   "cell_type": "code",
   "execution_count": 14,
   "id": "bbebf714-80ef-49db-b425-2788e5fc838c",
   "metadata": {},
   "outputs": [
    {
     "data": {
      "text/plain": [
       "[1, 3, 5, 7, 9, 11, 13, 15, 17, 19, 21, 23]"
      ]
     },
     "execution_count": 14,
     "metadata": {},
     "output_type": "execute_result"
    }
   ],
   "source": [
    "odd()"
   ]
  },
  {
   "cell_type": "markdown",
   "id": "472063f4-25c3-44e7-a7d4-621948d8be5d",
   "metadata": {},
   "source": [
    "# Ans Q2\n",
    "\n",
    "Creaating a function each for '*args' and '**kwargs' and their use."
   ]
  },
  {
   "cell_type": "code",
   "execution_count": 3,
   "id": "c0ac4efd-92ce-4ec9-b084-b7c15671e27f",
   "metadata": {},
   "outputs": [],
   "source": [
    "#function for *args \n",
    "def tup(*args):\n",
    "    return args"
   ]
  },
  {
   "cell_type": "code",
   "execution_count": 4,
   "id": "490d703f-d6ff-4da9-a01c-a5a2cd3a2947",
   "metadata": {},
   "outputs": [
    {
     "data": {
      "text/plain": [
       "((1, 2, 3, 'DATA', 'Science', 99), tuple)"
      ]
     },
     "execution_count": 4,
     "metadata": {},
     "output_type": "execute_result"
    }
   ],
   "source": [
    "tup(1,2,3,'DATA',\"Science\",99),type(tup())"
   ]
  },
  {
   "cell_type": "code",
   "execution_count": 5,
   "id": "330cf829-1e55-4c89-a374-3f48a29edeba",
   "metadata": {},
   "outputs": [],
   "source": [
    "#function for **kwargs\n",
    "def dct(**kwargs):\n",
    "    return kwargs"
   ]
  },
  {
   "cell_type": "code",
   "execution_count": 6,
   "id": "4762a6bd-bb7c-4415-9cc2-253f55ce84a7",
   "metadata": {},
   "outputs": [
    {
     "data": {
      "text/plain": [
       "({'a': 1, 'b': 2, 'c': 3, 'sky': 'tata'}, dict)"
      ]
     },
     "execution_count": 6,
     "metadata": {},
     "output_type": "execute_result"
    }
   ],
   "source": [
    "dct(a = 1,b = 2,c = 3, sky = \"tata\" ), type(dct())"
   ]
  },
  {
   "cell_type": "markdown",
   "id": "b9553a6a-6488-4dd2-bad2-ab80ede364c7",
   "metadata": {},
   "source": [
    "# Ans Q3\n",
    "\n",
    "***Iterator :- Iterator is a kind of function which iterate the iterable object like list,tuple,string, \n",
    "using method of iterator and iterate the first 5 element of given list.*** "
   ]
  },
  {
   "cell_type": "code",
   "execution_count": 7,
   "id": "0609d5ef-505d-48cf-be31-e1799ba9ed75",
   "metadata": {},
   "outputs": [],
   "source": [
    "n = [2,4,6,8,10,12,14,16,18,20]"
   ]
  },
  {
   "cell_type": "code",
   "execution_count": 8,
   "id": "83a2d219-0f2f-4009-a44b-a5c3f5ab66fb",
   "metadata": {},
   "outputs": [
    {
     "data": {
      "text/plain": [
       "[2, 4, 6, 8, 10]"
      ]
     },
     "execution_count": 8,
     "metadata": {},
     "output_type": "execute_result"
    }
   ],
   "source": [
    "n[0:5]  # we can get the all element like this."
   ]
  },
  {
   "cell_type": "code",
   "execution_count": 9,
   "id": "51320a30-e43c-4c0d-944a-59228da259d7",
   "metadata": {},
   "outputs": [],
   "source": [
    "n1 = iter(n)"
   ]
  },
  {
   "cell_type": "code",
   "execution_count": 10,
   "id": "bcc104de-0bfe-4932-8a73-ba9e7f3a80cb",
   "metadata": {},
   "outputs": [
    {
     "data": {
      "text/plain": [
       "2"
      ]
     },
     "execution_count": 10,
     "metadata": {},
     "output_type": "execute_result"
    }
   ],
   "source": [
    "next(n1)"
   ]
  },
  {
   "cell_type": "code",
   "execution_count": 11,
   "id": "5a80a049-6d76-467b-97fc-58e7435062fa",
   "metadata": {},
   "outputs": [
    {
     "data": {
      "text/plain": [
       "4"
      ]
     },
     "execution_count": 11,
     "metadata": {},
     "output_type": "execute_result"
    }
   ],
   "source": [
    "next(n1)"
   ]
  },
  {
   "cell_type": "code",
   "execution_count": 12,
   "id": "50a597f9-fb28-470c-b78f-6ae4e79c1db9",
   "metadata": {},
   "outputs": [
    {
     "data": {
      "text/plain": [
       "6"
      ]
     },
     "execution_count": 12,
     "metadata": {},
     "output_type": "execute_result"
    }
   ],
   "source": [
    "next(n1)"
   ]
  },
  {
   "cell_type": "code",
   "execution_count": 13,
   "id": "9ffd858f-7e2d-4d4a-962e-567e51e52d0e",
   "metadata": {},
   "outputs": [
    {
     "data": {
      "text/plain": [
       "8"
      ]
     },
     "execution_count": 13,
     "metadata": {},
     "output_type": "execute_result"
    }
   ],
   "source": [
    "next(n1)"
   ]
  },
  {
   "cell_type": "code",
   "execution_count": 14,
   "id": "8149792b-db06-4fbe-afec-bc39e2cb7c4a",
   "metadata": {},
   "outputs": [
    {
     "data": {
      "text/plain": [
       "10"
      ]
     },
     "execution_count": 14,
     "metadata": {},
     "output_type": "execute_result"
    }
   ],
   "source": [
    "next(n1)"
   ]
  },
  {
   "cell_type": "markdown",
   "id": "49507cf3-e23d-4c54-acae-d72ce70c72cd",
   "metadata": {},
   "source": [
    "# Ans Q4\n",
    "\n",
    "***Generator functions provide a powerful alternative,they allow you to define an iterative algorithm by writing a single function whose execution is not continuous.***"
   ]
  },
  {
   "cell_type": "code",
   "execution_count": 15,
   "id": "a1eff57b-1fa6-48bd-9b38-b65c4ee2c407",
   "metadata": {},
   "outputs": [],
   "source": [
    "def test_even(n):\n",
    "    a,b = 2,4\n",
    "    for i in range (n):\n",
    "        yield a\n",
    "        a,b = a+2,b+2"
   ]
  },
  {
   "cell_type": "code",
   "execution_count": 16,
   "id": "f258de18-c712-450b-8724-681bb43844a8",
   "metadata": {},
   "outputs": [
    {
     "data": {
      "text/plain": [
       "<generator object test_even at 0x7fdb4a27a0a0>"
      ]
     },
     "execution_count": 16,
     "metadata": {},
     "output_type": "execute_result"
    }
   ],
   "source": [
    "test_even(5)"
   ]
  },
  {
   "cell_type": "code",
   "execution_count": 17,
   "id": "145b2bf0-bf84-4088-9bf0-7028f5110038",
   "metadata": {},
   "outputs": [],
   "source": [
    "even = test_even(5)"
   ]
  },
  {
   "cell_type": "code",
   "execution_count": 18,
   "id": "de110198-41f5-40bd-999a-283ca3b6cceb",
   "metadata": {},
   "outputs": [
    {
     "name": "stdout",
     "output_type": "stream",
     "text": [
      "2\n",
      "4\n",
      "6\n",
      "8\n",
      "10\n"
     ]
    }
   ],
   "source": [
    "for i in even:\n",
    "    print(i)"
   ]
  },
  {
   "cell_type": "markdown",
   "id": "93eb9947-530f-4a5a-a0b3-208b51515342",
   "metadata": {},
   "source": [
    "# Ans Q5\n",
    "\n",
    "***Creating a generator function for prime numbers less than 1000 and Using the next() method to print the \n",
    "first 20 prime numbers.***"
   ]
  },
  {
   "cell_type": "code",
   "execution_count": 19,
   "id": "31ff1d11-a4a8-4282-8cb8-b2705a85f928",
   "metadata": {},
   "outputs": [],
   "source": [
    "def is_prime(number):\n",
    "    if number <= 1:\n",
    "        return False\n",
    "    for i in range(2, int(number ** 0.5) + 1):\n",
    "        if number % i == 0:\n",
    "            return False\n",
    "    return True"
   ]
  },
  {
   "cell_type": "code",
   "execution_count": 20,
   "id": "c37b1334-edd8-4021-9126-74590dbf50c1",
   "metadata": {},
   "outputs": [],
   "source": [
    "def prime_generator():\n",
    "    n = 1 \n",
    "    while True:\n",
    "        n += 1 \n",
    "        if is_prime(n):\n",
    "            yield n"
   ]
  },
  {
   "cell_type": "code",
   "execution_count": 21,
   "id": "a068854b-26b1-4f44-ab41-754ba00e2f7b",
   "metadata": {},
   "outputs": [
    {
     "name": "stdout",
     "output_type": "stream",
     "text": [
      "2\n",
      "3\n",
      "5\n",
      "7\n",
      "11\n",
      "13\n",
      "17\n",
      "19\n",
      "23\n",
      "29\n",
      "31\n",
      "37\n",
      "41\n",
      "43\n",
      "47\n",
      "53\n",
      "59\n",
      "61\n",
      "67\n",
      "71\n"
     ]
    }
   ],
   "source": [
    "generator = prime_generator() \n",
    "for i in range(20): \n",
    "    print(next(generator))"
   ]
  },
  {
   "cell_type": "markdown",
   "id": "edfd8517-0b29-4c27-b904-6f5bf8888937",
   "metadata": {},
   "source": [
    "# Ans Q6\n",
    "\n",
    "***Writing a python program to print the first 10 Fibonacci numbers using a while loop.***"
   ]
  },
  {
   "cell_type": "code",
   "execution_count": 22,
   "id": "eefbc982-692b-4306-8f7a-5f89168bf399",
   "metadata": {},
   "outputs": [],
   "source": [
    "def fib():\n",
    "    a,b = 0,1\n",
    "    while True:\n",
    "        yield a\n",
    "        a,b = b,a+b"
   ]
  },
  {
   "cell_type": "code",
   "execution_count": 23,
   "id": "188a8e1f-672a-4a3e-8a1c-d4678dc26a39",
   "metadata": {},
   "outputs": [],
   "source": [
    "fib1 = fib()"
   ]
  },
  {
   "cell_type": "code",
   "execution_count": 24,
   "id": "0bcdadb3-95eb-491c-b46d-96fc748219f4",
   "metadata": {},
   "outputs": [
    {
     "name": "stdout",
     "output_type": "stream",
     "text": [
      "0\n",
      "1\n",
      "1\n",
      "2\n",
      "3\n",
      "5\n",
      "8\n",
      "13\n",
      "21\n",
      "34\n"
     ]
    }
   ],
   "source": [
    "for i in range(10):\n",
    "    print(next(fib1))"
   ]
  },
  {
   "cell_type": "markdown",
   "id": "be0a796b-d4d3-4874-b00b-9d47dc9be402",
   "metadata": {},
   "source": [
    "# Ans Q7\n",
    "\n",
    "***Writing a List Comprehension to iterate through the given string: ‘pwskills’Expected output: ['p', 'w', 's', 'k', 'i', 'l', 'l', 's']***"
   ]
  },
  {
   "cell_type": "markdown",
   "id": "b272efba-b73a-4c0a-9ccd-028b0bba9965",
   "metadata": {},
   "source": [
    "this is my list comprehension solution "
   ]
  },
  {
   "cell_type": "code",
   "execution_count": 25,
   "id": "c56e3dd9-d159-4088-b567-87698961483e",
   "metadata": {},
   "outputs": [
    {
     "data": {
      "text/plain": [
       "['p', 'w', 's', 'k', 'i', 'l', 'l', 's']"
      ]
     },
     "execution_count": 25,
     "metadata": {},
     "output_type": "execute_result"
    }
   ],
   "source": [
    "list1 = [character for character in 'pwskills']\n",
    "print(list1)"
   ]
  },
  {
   "cell_type": "markdown",
   "id": "9b563997-a258-4a57-9cee-6ff8e339fad6",
   "metadata": {},
   "source": [
    "# Ans Q8\n",
    "\n",
    "***Writing a python program to check whether a given number is Palindrome or not using a while loop.***"
   ]
  },
  {
   "cell_type": "code",
   "execution_count": 1,
   "id": "7e72a2c3-4cc0-48f4-b1ad-cc43b6134161",
   "metadata": {},
   "outputs": [],
   "source": [
    "def checkPalindrome(original):\n",
    "    reverseNum = 0\n",
    "    tempOriginal = original\n",
    "\n",
    "    while (tempOriginal > 0):\n",
    "        lastDigit = tempOriginal % 10\n",
    "        reverseNum = reverseNum * 10 + lastDigit\n",
    "        tempOriginal = tempOriginal // 10\n",
    "\n",
    "    if (original == reverseNum):\n",
    "        return \"Palindrome Number\"\n",
    "    else:\n",
    "        return \"Not Palindrome\""
   ]
  },
  {
   "cell_type": "code",
   "execution_count": 2,
   "id": "37cb3d22-6ff1-47ab-8c03-dc89716bfe79",
   "metadata": {},
   "outputs": [
    {
     "data": {
      "text/plain": [
       "'Palindrome Number'"
      ]
     },
     "execution_count": 2,
     "metadata": {},
     "output_type": "execute_result"
    }
   ],
   "source": [
    "checkPalindrome(121)"
   ]
  },
  {
   "cell_type": "code",
   "execution_count": 3,
   "id": "9cfdee23-5488-4b73-b32a-714d85b87b24",
   "metadata": {},
   "outputs": [
    {
     "data": {
      "text/plain": [
       "'Palindrome Number'"
      ]
     },
     "execution_count": 3,
     "metadata": {},
     "output_type": "execute_result"
    }
   ],
   "source": [
    "checkPalindrome(222)"
   ]
  },
  {
   "cell_type": "code",
   "execution_count": 4,
   "id": "3f26e43e-58e0-46f5-b075-ce193c670b14",
   "metadata": {},
   "outputs": [
    {
     "data": {
      "text/plain": [
       "'Not Palindrome'"
      ]
     },
     "execution_count": 4,
     "metadata": {},
     "output_type": "execute_result"
    }
   ],
   "source": [
    "checkPalindrome(2345)"
   ]
  },
  {
   "cell_type": "markdown",
   "id": "7355e230-a7d2-4d02-ad09-679b5f8c56e9",
   "metadata": {},
   "source": [
    "Ans Q9.\n",
    " Using a list comprehension to create a list from 1 to 100 and using another List comprehension to filter \n",
    "out odd numbers."
   ]
  },
  {
   "cell_type": "code",
   "execution_count": 8,
   "id": "df3db3bd-8d97-43c6-99ab-9225854e7303",
   "metadata": {},
   "outputs": [
    {
     "name": "stdout",
     "output_type": "stream",
     "text": [
      "[1, 2, 3, 4, 5, 6, 7, 8, 9, 10, 11, 12, 13, 14, 15, 16, 17, 18, 19, 20, 21, 22, 23, 24, 25, 26, 27, 28, 29, 30, 31, 32, 33, 34, 35, 36, 37, 38, 39, 40, 41, 42, 43, 44, 45, 46, 47, 48, 49, 50, 51, 52, 53, 54, 55, 56, 57, 58, 59, 60, 61, 62, 63, 64, 65, 66, 67, 68, 69, 70, 71, 72, 73, 74, 75, 76, 77, 78, 79, 80, 81, 82, 83, 84, 85, 86, 87, 88, 89, 90, 91, 92, 93, 94, 95, 96, 97, 98, 99, 100]\n"
     ]
    }
   ],
   "source": [
    "list1 = list(range(1,101)) #created a list from 1 to 100\n",
    "l1 = [x for x in list1]\n",
    "print(l1)"
   ]
  },
  {
   "cell_type": "code",
   "execution_count": 9,
   "id": "8c8f65a3-ad77-45f9-a30c-9aa3c72d1979",
   "metadata": {},
   "outputs": [
    {
     "name": "stdout",
     "output_type": "stream",
     "text": [
      "[1, 3, 5, 7, 9, 11, 13, 15, 17, 19, 21, 23, 25, 27, 29, 31, 33, 35, 37, 39, 41, 43, 45, 47, 49, 51, 53, 55, 57, 59, 61, 63, 65, 67, 69, 71, 73, 75, 77, 79, 81, 83, 85, 87, 89, 91, 93, 95, 97, 99]\n"
     ]
    }
   ],
   "source": [
    "l2 = [x for x in l1 if ( x % 2)] #filtering out odd numbers\n",
    "print(l2)"
   ]
  }
 ],
 "metadata": {
  "kernelspec": {
   "display_name": "Python 3 (ipykernel)",
   "language": "python",
   "name": "python3"
  },
  "language_info": {
   "codemirror_mode": {
    "name": "ipython",
    "version": 3
   },
   "file_extension": ".py",
   "mimetype": "text/x-python",
   "name": "python",
   "nbconvert_exporter": "python",
   "pygments_lexer": "ipython3",
   "version": "3.10.8"
  }
 },
 "nbformat": 4,
 "nbformat_minor": 5
}
